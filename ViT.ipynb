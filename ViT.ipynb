{
 "cells": [
  {
   "cell_type": "markdown",
   "id": "dfd0505f-63df-4644-9066-a479855e123c",
   "metadata": {},
   "source": [
    "# Vision Transformers\n"
   ]
  },
  {
   "cell_type": "markdown",
   "id": "ed2ac7e5-cac0-40af-8d00-b67106f4d7cf",
   "metadata": {},
   "source": [
    "## Import Keras dataset and required libraries\n"
   ]
  },
  {
   "cell_type": "code",
   "execution_count": 1,
   "id": "52a8fb7e-a91c-4777-b57c-1a645772619c",
   "metadata": {},
   "outputs": [
    {
     "name": "stderr",
     "output_type": "stream",
     "text": [
      "C:\\Python311\\Lib\\site-packages\\tensorflow_addons\\utils\\tfa_eol_msg.py:23: UserWarning: \n",
      "\n",
      "TensorFlow Addons (TFA) has ended development and introduction of new features.\n",
      "TFA has entered a minimal maintenance and release mode until a planned end of life in May 2024.\n",
      "Please modify downstream libraries to take dependencies from other repositories in our TensorFlow community (e.g. Keras, Keras-CV, and Keras-NLP). \n",
      "\n",
      "For more information see: https://github.com/tensorflow/addons/issues/2807 \n",
      "\n",
      "  warnings.warn(\n"
     ]
    }
   ],
   "source": [
    "import warnings\n",
    "import numpy as np\n",
    "import matplotlib.pyplot as plt\n",
    "import tensorflow as tf\n",
    "import tensorflow_addons as tfa\n",
    "from tensorflow import keras\n",
    "from tensorflow.keras import layers\n",
    "\n",
    "# suppressing warning messages\n",
    "warnings.filterwarnings('ignore')"
   ]
  },
  {
   "cell_type": "markdown",
   "id": "97015303-4727-4738-a044-a70ad2f7d999",
   "metadata": {},
   "source": [
    "### Load CIFAR-10 Dataset and split it into training and testing\n"
   ]
  },
  {
   "cell_type": "code",
   "execution_count": 2,
   "id": "c320b98a-671c-4093-b053-3383934ab89b",
   "metadata": {},
   "outputs": [
    {
     "name": "stdout",
     "output_type": "stream",
     "text": [
      "x_train shape: (50000, 32, 32, 3), y_train shape: (50000, 1)\n",
      "x_test shape: (10000, 32, 32, 3), y_test shape: (10000, 1)\n"
     ]
    }
   ],
   "source": [
    "num_classes = 10\n",
    "input_shape = (32, 32, 3)\n",
    "\n",
    "(x_train, y_train), (x_test, y_test) = keras.datasets.cifar10.load_data()\n",
    "\n",
    "print(f\"x_train shape: {x_train.shape}, y_train shape: {y_train.shape}\")\n",
    "print(f\"x_test shape: {x_test.shape}, y_test shape: {y_test.shape}\")"
   ]
  },
  {
   "cell_type": "code",
   "execution_count": 3,
   "id": "48ae1989-7729-47fe-9198-3dccd00c0507",
   "metadata": {},
   "outputs": [],
   "source": [
    "# selecting first 4k samples out of 50k for training\n",
    "x_train = x_train[:4000]\n",
    "y_train = y_train[:4000]\n",
    "# selecting first 2k samples out of 10k for testing\n",
    "x_test = x_test[:2000]\n",
    "y_test = y_test[:2000]"
   ]
  },
  {
   "cell_type": "markdown",
   "id": "e01c139f-c91f-42ec-95a9-9332dd3073d3",
   "metadata": {},
   "source": [
    "## Hyper Parameter Definition\n"
   ]
  },
  {
   "cell_type": "code",
   "execution_count": 4,
   "id": "d1cd0634-04b6-4367-8125-8103a632a00e",
   "metadata": {},
   "outputs": [],
   "source": [
    "learning_rate = 0.001\n",
    "weight_decay = 0.0001\n",
    "batch_size = 256\n",
    "num_epochs = 40\n",
    "image_size = 72\n",
    "patch_size = 6\n",
    "num_patches = (image_size // patch_size) ** 2\n",
    "num_heads = 4\n",
    "projection_dim = 64\n",
    "transformer_units = [projection_dim * 2, projection_dim]\n",
    "transformer_layers = 8\n",
    "mlp_head_units = [2048, 1024]"
   ]
  },
  {
   "cell_type": "markdown",
   "id": "606425a5-0a04-419a-849b-ed6da10ca97c",
   "metadata": {},
   "source": [
    "## Building ViT classifier\n"
   ]
  },
  {
   "cell_type": "markdown",
   "id": "f600d605-86dd-412f-a360-7e583dbbee02",
   "metadata": {},
   "source": [
    "### Data augmentation\n"
   ]
  },
  {
   "cell_type": "code",
   "execution_count": 5,
   "id": "8e3bab7b-609c-4dc3-b147-cc3385916fb3",
   "metadata": {},
   "outputs": [],
   "source": [
    "data_augmentation = keras.Sequential(\n",
    "    [\n",
    "        layers.Normalization(),\n",
    "        layers.Resizing(image_size, image_size),\n",
    "        layers.RandomFlip('horizontal'),\n",
    "        layers.RandomRotation(factor = 0.02),\n",
    "        layers.RandomZoom(height_factor = 0.2, width_factor = 0.2)\n",
    "    ],\n",
    "    name = 'data_augmentation',\n",
    ")\n",
    "data_augmentation.layers[0].adapt(x_train)"
   ]
  },
  {
   "cell_type": "markdown",
   "id": "46e9b0d3-e529-4bb0-94c2-dfbe250baee0",
   "metadata": {},
   "source": [
    "### Define MLP architecture\n"
   ]
  },
  {
   "cell_type": "code",
   "execution_count": 13,
   "id": "f9e2ca04-1d3c-49be-b66c-a2f9afd37443",
   "metadata": {},
   "outputs": [],
   "source": [
    "def mlp(x, hidden_units, dropout_rate):\n",
    "    for units in hidden_units:\n",
    "        x = layers.Dense(units, activation = tf.nn.gelu)(x)\n",
    "        x = layers.Dropout(dropout_rate)(x)\n",
    "    return x"
   ]
  },
  {
   "cell_type": "markdown",
   "id": "1aeae86c-3548-47b2-b7bd-80a515a1efe4",
   "metadata": {},
   "source": [
    "### Patches\n"
   ]
  },
  {
   "cell_type": "code",
   "execution_count": 14,
   "id": "80f8ff4a-da2c-4648-8886-76f03fa21a7f",
   "metadata": {},
   "outputs": [],
   "source": [
    "class Patches(layers.Layer):\n",
    "    def __init__(self, patch_size):\n",
    "        super(Patches, self).__init__()\n",
    "        self.patch_size = patch_size\n",
    "\n",
    "    def call(self, images):\n",
    "        batch_size = tf.shape(images)[0]\n",
    "        patches = tf.image.extract_patches(\n",
    "            images = images,\n",
    "            sizes = [1, self.patch_size, self.patch_size, 1],\n",
    "            strides = [1, self.patch_size, self.patch_size, 1],\n",
    "            rates = [1, 1, 1, 1],\n",
    "            padding = 'VALID',\n",
    "        )\n",
    "        patch_dims = patches.shape[-1]\n",
    "        patches = tf.reshape(patches, [batch_size, -1, patch_dims])\n",
    "        return patches"
   ]
  },
  {
   "cell_type": "code",
   "execution_count": 15,
   "id": "4f6254cc-dbf0-4ed9-a458-c39c21608696",
   "metadata": {},
   "outputs": [
    {
     "name": "stdout",
     "output_type": "stream",
     "text": [
      "Image size: 72 X 72\n",
      "Patch size: 6 X 6\n",
      "Patches per image: 144\n",
      "Elements per image: 108\n"
     ]
    },
    {
     "data": {
      "image/png": "[encoded data removed]",
      "text/plain": [
       "<Figure size 400x400 with 1 Axes>"
      ]
     },
     "metadata": {},
     "output_type": "display_data"
    },
    {
     "data": {
      "image/png": "[encoded data removed]",
      "text/plain": [
       "<Figure size 400x400 with 144 Axes>"
      ]
     },
     "metadata": {},
     "output_type": "display_data"
    }
   ],
   "source": [
    "plt.figure(figsize = (4, 4))\n",
    "image = x_train[np.random.choice(range(x_train.shape[0]))]\n",
    "plt.imshow(image.astype('uint8'))\n",
    "plt.axis('off')\n",
    "\n",
    "resized_image = tf.image.resize(\n",
    "    tf.convert_to_tensor([image]), size = (image_size, image_size)\n",
    ")\n",
    "\n",
    "patches = Patches(patch_size)(resized_image)\n",
    "print(f\"Image size: {image_size} X {image_size}\")\n",
    "print(f\"Patch size: {patch_size} X {patch_size}\")\n",
    "print(f\"Patches per image: {patches.shape[1]}\")\n",
    "print(f\"Elements per image: {patches.shape[-1]}\")\n",
    "\n",
    "n = int(np.sqrt(patches.shape[1]))\n",
    "plt.figure(figsize = (4, 4))\n",
    "for i, patch in enumerate(patches[0]):\n",
    "    ax = plt.subplot(n, n, i+1)\n",
    "    patch_image = tf.reshape(patch, (patch_size, patch_size, 3))\n",
    "    plt.imshow(patch_image.numpy().astype('uint8'))\n",
    "    plt.axis('off')\n"
   ]
  },
  {
   "cell_type": "code",
   "execution_count": 16,
   "id": "d52bb913-63a5-4db2-84d6-135cee778af0",
   "metadata": {},
   "outputs": [],
   "source": [
    "class Encoder(layers.Layer):\n",
    "    def __init__(self, num_patches, projection_dim):\n",
    "        super(Encoder, self).__init__()\n",
    "        self.num_patches = num_patches\n",
    "        self.projection = layers.Dense(units = projection_dim)\n",
    "        self.position_embedding = layers.Embedding(\n",
    "            input_dim = num_patches,\n",
    "            output_dim = projection_dim\n",
    "        )\n",
    "\n",
    "    def call(self, patch):\n",
    "        positions = tf.range(start = 0, limit = self.num_patches, delta = 1)\n",
    "        encoded = self.projection(patch) + self.position_embedding(positions)\n",
    "        return encoded"
   ]
  },
  {
   "cell_type": "code",
   "execution_count": 17,
   "id": "29e3576b-5109-404a-aa93-1fa386600012",
   "metadata": {},
   "outputs": [],
   "source": [
    "def create_vit_classifier():\n",
    "    inputs = layers.Input(shape = input_shape)\n",
    "    augmented = data_augmentation(inputs)\n",
    "    patches = Patches(patch_size)(augmented)\n",
    "    encoded_patches = Encoder(num_patches, projection_dim)(patches)\n",
    "\n",
    "    for _ in range(transformer_layers):\n",
    "        x1 = layers.LayerNormalization(epsilon = 1e-6)(encoded_patches)\n",
    "        attention_output = layers.MultiHeadAttention(\n",
    "            num_heads = num_heads,\n",
    "            key_dim = projection_dim,\n",
    "            dropout = 0.1\n",
    "        )(x1, x1)\n",
    "\n",
    "        x2 = layers.Add()([attention_output, encoded_patches])\n",
    "\n",
    "        x3 = layers.LayerNormalization(epsilon = 1e-6)(x2)\n",
    "        x3 = mlp(x3, hidden_units = transformer_units, dropout_rate = 0.1)\n",
    "\n",
    "        encoded_patches = layers.Add()([x3, x2])\n",
    "\n",
    "    representation = layers.LayerNormalization(epsilon = 1e-6)(encoded_patches)\n",
    "    representation = layers.Flatten()(representation)\n",
    "    representation = layers.Dropout(0.5)(representation)\n",
    "\n",
    "    features = mlp(representation, hidden_units = mlp_head_units, dropout_rate = 0.5)\n",
    "    logits = layers.Dense(num_classes)(features)\n",
    "\n",
    "    model = keras.Model(inputs = inputs, outputs = logits)\n",
    "    return model"
   ]
  },
  {
   "cell_type": "code",
   "execution_count": 18,
   "id": "11127ccb-bf6c-4fea-8f9b-02a6cf97fa8f",
   "metadata": {},
   "outputs": [],
   "source": [
    "def run(model):\n",
    "    optimizer = tfa.optimizers.AdamW(\n",
    "        learning_rate = learning_rate,\n",
    "        weight_decay = weight_decay\n",
    "    )\n",
    "    \n",
    "    model.compile(\n",
    "        optimizer = optimizer,\n",
    "        loss = keras.losses.SparseCategoricalCrossentropy(from_logits = True),\n",
    "        metrics = [\n",
    "            keras.metrics.SparseCategoricalAccuracy(name='accuracy'),\n",
    "            keras.metrics.SparseTopKCategoricalAccuracy(5, name='top-5-accuracy'),\n",
    "        ],\n",
    "    )\n",
    "\n",
    "    checkpoint_filepath = './tmp/checkpoint'\n",
    "    checkpoint_callback = keras.callbacks.ModelCheckpoint(\n",
    "        checkpoint_filepath,\n",
    "        monitor='val_accuracy',\n",
    "        save_best_only=True,\n",
    "        save_weights_only=True\n",
    "    )\n",
    "\n",
    "    history = model.fit(\n",
    "        x=x_train,\n",
    "        y=y_train,\n",
    "        batch_size=batch_size,\n",
    "        epochs=num_epochs,\n",
    "        validation_split=0.1,\n",
    "        callbacks=[checkpoint_callback],\n",
    "    )\n",
    "\n",
    "    model.load_weights(checkpoint_filepath)\n",
    "    _, accuracy, top_5_accuracy = model.evaluate(x_test, y_test)\n",
    "    print(f\"Test accuracy: {round(accuracy * 100, 2)}%\")\n",
    "    print(f\"Test Top 5 accuracy: {round(top_5_accuracy * 100, 2)}%\")\n",
    "\n",
    "    return history"
   ]
  },
  {
   "cell_type": "code",
   "execution_count": 19,
   "id": "1e2201f0-eaea-4d60-8c09-8cb8e53df710",
   "metadata": {},
   "outputs": [
    {
     "name": "stdout",
     "output_type": "stream",
     "text": [
      "Epoch 1/40\n",
      "15/15 [==============================] - 262s 15s/step - loss: 4.2119 - accuracy: 0.1608 - top-5-accuracy: 0.6178 - val_loss: 2.0386 - val_accuracy: 0.2400 - val_top-5-accuracy: 0.7625\n",
      "Epoch 2/40\n",
      "15/15 [==============================] - 232s 16s/step - loss: 2.3373 - accuracy: 0.2122 - top-5-accuracy: 0.7022 - val_loss: 1.9935 - val_accuracy: 0.3125 - val_top-5-accuracy: 0.7800\n",
      "Epoch 3/40\n",
      "15/15 [==============================] - 207s 14s/step - loss: 2.1711 - accuracy: 0.2350 - top-5-accuracy: 0.7494 - val_loss: 1.9345 - val_accuracy: 0.2925 - val_top-5-accuracy: 0.8100\n",
      "Epoch 4/40\n",
      "15/15 [==============================] - 193s 13s/step - loss: 2.0695 - accuracy: 0.2639 - top-5-accuracy: 0.7819 - val_loss: 1.9655 - val_accuracy: 0.2825 - val_top-5-accuracy: 0.7875\n",
      "Epoch 5/40\n",
      "15/15 [==============================] - 215s 14s/step - loss: 2.0225 - accuracy: 0.2675 - top-5-accuracy: 0.7933 - val_loss: 1.8602 - val_accuracy: 0.3400 - val_top-5-accuracy: 0.8300\n",
      "Epoch 6/40\n",
      "15/15 [==============================] - 207s 14s/step - loss: 1.9243 - accuracy: 0.3039 - top-5-accuracy: 0.8247 - val_loss: 1.8287 - val_accuracy: 0.3450 - val_top-5-accuracy: 0.8350\n",
      "Epoch 7/40\n",
      "15/15 [==============================] - 197s 13s/step - loss: 1.9121 - accuracy: 0.3186 - top-5-accuracy: 0.8169 - val_loss: 1.7187 - val_accuracy: 0.3825 - val_top-5-accuracy: 0.8600\n",
      "Epoch 8/40\n",
      "15/15 [==============================] - 197s 13s/step - loss: 1.8110 - accuracy: 0.3486 - top-5-accuracy: 0.8431 - val_loss: 1.6510 - val_accuracy: 0.3975 - val_top-5-accuracy: 0.8725\n",
      "Epoch 9/40\n",
      "15/15 [==============================] - 202s 13s/step - loss: 1.7904 - accuracy: 0.3672 - top-5-accuracy: 0.8611 - val_loss: 1.6492 - val_accuracy: 0.4100 - val_top-5-accuracy: 0.8875\n",
      "Epoch 10/40\n",
      "15/15 [==============================] - 213s 14s/step - loss: 1.7597 - accuracy: 0.3639 - top-5-accuracy: 0.8606 - val_loss: 1.6549 - val_accuracy: 0.4025 - val_top-5-accuracy: 0.8725\n",
      "Epoch 11/40\n",
      "15/15 [==============================] - 209s 14s/step - loss: 1.7352 - accuracy: 0.3803 - top-5-accuracy: 0.8669 - val_loss: 1.5929 - val_accuracy: 0.4250 - val_top-5-accuracy: 0.8700\n",
      "Epoch 12/40\n",
      "15/15 [==============================] - 202s 14s/step - loss: 1.6875 - accuracy: 0.3817 - top-5-accuracy: 0.8839 - val_loss: 1.6113 - val_accuracy: 0.4225 - val_top-5-accuracy: 0.8775\n",
      "Epoch 13/40\n",
      "15/15 [==============================] - 210s 14s/step - loss: 1.6819 - accuracy: 0.3969 - top-5-accuracy: 0.8828 - val_loss: 1.6028 - val_accuracy: 0.4375 - val_top-5-accuracy: 0.8825\n",
      "Epoch 14/40\n",
      "15/15 [==============================] - 215s 14s/step - loss: 1.6254 - accuracy: 0.4136 - top-5-accuracy: 0.8883 - val_loss: 1.5334 - val_accuracy: 0.4500 - val_top-5-accuracy: 0.8900\n",
      "Epoch 15/40\n",
      "15/15 [==============================] - 206s 14s/step - loss: 1.6022 - accuracy: 0.4331 - top-5-accuracy: 0.9019 - val_loss: 1.5645 - val_accuracy: 0.4525 - val_top-5-accuracy: 0.8950\n",
      "Epoch 16/40\n",
      "15/15 [==============================] - 205s 14s/step - loss: 1.5833 - accuracy: 0.4306 - top-5-accuracy: 0.9025 - val_loss: 1.4847 - val_accuracy: 0.4475 - val_top-5-accuracy: 0.9275\n",
      "Epoch 17/40\n",
      "15/15 [==============================] - 203s 14s/step - loss: 1.5075 - accuracy: 0.4567 - top-5-accuracy: 0.9125 - val_loss: 1.4745 - val_accuracy: 0.4425 - val_top-5-accuracy: 0.9125\n",
      "Epoch 18/40\n",
      "15/15 [==============================] - 237s 16s/step - loss: 1.4976 - accuracy: 0.4639 - top-5-accuracy: 0.9089 - val_loss: 1.4316 - val_accuracy: 0.4775 - val_top-5-accuracy: 0.9200\n",
      "Epoch 19/40\n",
      "15/15 [==============================] - 224s 15s/step - loss: 1.4816 - accuracy: 0.4636 - top-5-accuracy: 0.9236 - val_loss: 1.3857 - val_accuracy: 0.4975 - val_top-5-accuracy: 0.9200\n",
      "Epoch 20/40\n",
      "15/15 [==============================] - 208s 14s/step - loss: 1.4491 - accuracy: 0.4769 - top-5-accuracy: 0.9247 - val_loss: 1.3775 - val_accuracy: 0.4750 - val_top-5-accuracy: 0.9400\n",
      "Epoch 21/40\n",
      "15/15 [==============================] - 218s 15s/step - loss: 1.4427 - accuracy: 0.4850 - top-5-accuracy: 0.9275 - val_loss: 1.3558 - val_accuracy: 0.5000 - val_top-5-accuracy: 0.9400\n",
      "Epoch 22/40\n",
      "15/15 [==============================] - 211s 14s/step - loss: 1.4119 - accuracy: 0.4847 - top-5-accuracy: 0.9272 - val_loss: 1.3945 - val_accuracy: 0.4775 - val_top-5-accuracy: 0.9175\n",
      "Epoch 23/40\n",
      "15/15 [==============================] - 210s 14s/step - loss: 1.4206 - accuracy: 0.4811 - top-5-accuracy: 0.9278 - val_loss: 1.3568 - val_accuracy: 0.5000 - val_top-5-accuracy: 0.9325\n",
      "Epoch 24/40\n",
      "15/15 [==============================] - 206s 14s/step - loss: 1.3836 - accuracy: 0.5086 - top-5-accuracy: 0.9317 - val_loss: 1.3451 - val_accuracy: 0.4975 - val_top-5-accuracy: 0.9275\n",
      "Epoch 25/40\n",
      "15/15 [==============================] - 212s 14s/step - loss: 1.3122 - accuracy: 0.5167 - top-5-accuracy: 0.9475 - val_loss: 1.3121 - val_accuracy: 0.5100 - val_top-5-accuracy: 0.9375\n",
      "Epoch 26/40\n",
      "15/15 [==============================] - 208s 14s/step - loss: 1.2832 - accuracy: 0.5278 - top-5-accuracy: 0.9433 - val_loss: 1.3548 - val_accuracy: 0.5200 - val_top-5-accuracy: 0.9225\n",
      "Epoch 27/40\n",
      "15/15 [==============================] - 214s 14s/step - loss: 1.3904 - accuracy: 0.5108 - top-5-accuracy: 0.9333 - val_loss: 1.4132 - val_accuracy: 0.5100 - val_top-5-accuracy: 0.9300\n",
      "Epoch 28/40\n",
      "15/15 [==============================] - 202s 13s/step - loss: 1.2966 - accuracy: 0.5297 - top-5-accuracy: 0.9486 - val_loss: 1.3451 - val_accuracy: 0.5050 - val_top-5-accuracy: 0.9275\n",
      "Epoch 29/40\n",
      "15/15 [==============================] - 208s 14s/step - loss: 1.2813 - accuracy: 0.5361 - top-5-accuracy: 0.9519 - val_loss: 1.2897 - val_accuracy: 0.5375 - val_top-5-accuracy: 0.9425\n",
      "Epoch 30/40\n",
      "15/15 [==============================] - 202s 13s/step - loss: 1.2319 - accuracy: 0.5531 - top-5-accuracy: 0.9519 - val_loss: 1.2339 - val_accuracy: 0.5575 - val_top-5-accuracy: 0.9475\n",
      "Epoch 31/40\n",
      "15/15 [==============================] - 203s 14s/step - loss: 1.2079 - accuracy: 0.5633 - top-5-accuracy: 0.9492 - val_loss: 1.2557 - val_accuracy: 0.5550 - val_top-5-accuracy: 0.9425\n",
      "Epoch 32/40\n",
      "15/15 [==============================] - 206s 14s/step - loss: 1.1762 - accuracy: 0.5772 - top-5-accuracy: 0.9564 - val_loss: 1.2401 - val_accuracy: 0.5875 - val_top-5-accuracy: 0.9325\n",
      "Epoch 33/40\n",
      "15/15 [==============================] - 197s 13s/step - loss: 1.1783 - accuracy: 0.5783 - top-5-accuracy: 0.9561 - val_loss: 1.2328 - val_accuracy: 0.5700 - val_top-5-accuracy: 0.9275\n",
      "Epoch 34/40\n",
      "15/15 [==============================] - 199s 13s/step - loss: 1.1869 - accuracy: 0.5661 - top-5-accuracy: 0.9581 - val_loss: 1.2310 - val_accuracy: 0.5600 - val_top-5-accuracy: 0.9525\n",
      "Epoch 35/40\n",
      "15/15 [==============================] - 203s 13s/step - loss: 1.1365 - accuracy: 0.5978 - top-5-accuracy: 0.9617 - val_loss: 1.1768 - val_accuracy: 0.5875 - val_top-5-accuracy: 0.9475\n",
      "Epoch 36/40\n",
      "15/15 [==============================] - 196s 13s/step - loss: 1.0690 - accuracy: 0.6094 - top-5-accuracy: 0.9619 - val_loss: 1.2248 - val_accuracy: 0.5650 - val_top-5-accuracy: 0.9400\n",
      "Epoch 37/40\n",
      "15/15 [==============================] - 198s 13s/step - loss: 1.1169 - accuracy: 0.5969 - top-5-accuracy: 0.9606 - val_loss: 1.2010 - val_accuracy: 0.5800 - val_top-5-accuracy: 0.9525\n",
      "Epoch 38/40\n",
      "15/15 [==============================] - 200s 13s/step - loss: 1.1196 - accuracy: 0.5950 - top-5-accuracy: 0.9653 - val_loss: 1.2690 - val_accuracy: 0.5575 - val_top-5-accuracy: 0.9425\n",
      "Epoch 39/40\n",
      "15/15 [==============================] - 199s 13s/step - loss: 1.1259 - accuracy: 0.5917 - top-5-accuracy: 0.9608 - val_loss: 1.2360 - val_accuracy: 0.5750 - val_top-5-accuracy: 0.9400\n",
      "Epoch 40/40\n",
      "15/15 [==============================] - 202s 13s/step - loss: 1.0616 - accuracy: 0.6097 - top-5-accuracy: 0.9703 - val_loss: 1.2755 - val_accuracy: 0.5675 - val_top-5-accuracy: 0.9525\n",
      "63/63 [==============================] - 35s 548ms/step - loss: 1.3360 - accuracy: 0.5370 - top-5-accuracy: 0.9300\n",
      "Test accuracy: 53.7%\n",
      "Test Top 5 accuracy: 93.0%\n"
     ]
    }
   ],
   "source": [
    "vit_classifier = create_vit_classifier()\n",
    "history = run(vit_classifier)"
   ]
  },
  {
   "cell_type": "code",
   "execution_count": 20,
   "id": "295c93c4-ee43-4153-834d-47028f1eb45b",
   "metadata": {},
   "outputs": [],
   "source": [
    "class_names = [\n",
    "    'airplane',\n",
    "    'automobile',\n",
    "    'bird',\n",
    "    'cat',\n",
    "    'deer',\n",
    "    'dog',\n",
    "    'frog',\n",
    "    'horse',\n",
    "    'ship',\n",
    "    'truck'\n",
    "]"
   ]
  },
  {
   "cell_type": "code",
   "execution_count": 21,
   "id": "15698936-6a93-4a68-81ed-78b85b66a8b7",
   "metadata": {},
   "outputs": [],
   "source": [
    "def img_predict(images, model):\n",
    "    if len(images.shape) == 3:\n",
    "        out = model.predict(images.reshape(-1, *images.shape))\n",
    "    else:\n",
    "        out = model.predict(images)\n",
    "    prediction = np.argmax(out, axis=1)\n",
    "    img_prediction = [class_names[i] for i in prediction]\n",
    "    return img_prediction"
   ]
  },
  {
   "cell_type": "markdown",
   "id": "966a3508-ca86-4f08-bef2-f09877cb85de",
   "metadata": {},
   "source": [
    "## Tests\n"
   ]
  },
  {
   "cell_type": "code",
   "execution_count": 26,
   "id": "fd7ca0b7-3c89-4ba3-b1ce-33619c951e3d",
   "metadata": {},
   "outputs": [
    {
     "name": "stdout",
     "output_type": "stream",
     "text": [
      "1/1 [==============================] - 0s 48ms/step\n",
      "['truck']\n"
     ]
    },
    {
     "data": {
      "image/png": "[encoded data removed]",
      "text/plain": [
       "<Figure size 640x480 with 1 Axes>"
      ]
     },
     "metadata": {},
     "output_type": "display_data"
    }
   ],
   "source": [
    "index = 11\n",
    "plt.imshow(x_test[index])\n",
    "prediction = img_predict(x_test[index], vit_classifier)\n",
    "print(prediction)"
   ]
  },
  {
   "cell_type": "code",
   "execution_count": 29,
   "id": "a9fa0af0-2ab7-4d4b-80a3-f8c859f6bb98",
   "metadata": {},
   "outputs": [
    {
     "name": "stdout",
     "output_type": "stream",
     "text": [
      "1/1 [==============================] - 0s 50ms/step\n",
      "['frog']\n"
     ]
    },
    {
     "data": {
      "image/png": "[encoded data removed]",
      "text/plain": [
       "<Figure size 640x480 with 1 Axes>"
      ]
     },
     "metadata": {},
     "output_type": "display_data"
    }
   ],
   "source": [
    "index = 19\n",
    "plt.imshow(x_test[index])\n",
    "prediction = img_predict(x_test[index], vit_classifier)\n",
    "print(prediction)"
   ]
  }
 ],
 "metadata": {
  "kernelspec": {
   "display_name": "Python 3 (ipykernel)",
   "language": "python",
   "name": "python3"
  },
  "language_info": {
   "codemirror_mode": {
    "name": "ipython",
    "version": 3
   },
   "file_extension": ".py",
   "mimetype": "text/x-python",
   "name": "python",
   "nbconvert_exporter": "python",
   "pygments_lexer": "ipython3",
   "version": "3.11.4"
  }
 },
 "nbformat": 4,
 "nbformat_minor": 5
}
